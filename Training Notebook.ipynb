{
 "cells": [
  {
   "cell_type": "markdown",
   "metadata": {
    "collapsed": true
   },
   "source": [
    "# 1. Setup Credentials"
   ]
  },
  {
   "cell_type": "code",
   "execution_count": 14,
   "metadata": {},
   "outputs": [],
   "source": [
    "# @hidden_cell\n",
    "# The project token is an authorization token that is used to access project resources like data sources, connections, and used by platform APIs.\n",
    "from project_lib import Project\n",
    "project = Project(project_id='', project_access_token='')\n",
    "pc = project.project_context\n"
   ]
  },
  {
   "cell_type": "code",
   "execution_count": 1,
   "metadata": {},
   "outputs": [],
   "source": [
    "tm1_credentials = {\n",
    "    \"address\":\"\", \n",
    "    \"port\": \"\",\n",
    "    \"user\": \"\", \n",
    "    \"password\": \"\", \n",
    "    \"ssl\": \"\"\n",
    "}"
   ]
  },
  {
   "cell_type": "markdown",
   "metadata": {},
   "source": [
    "# 2. Connect to Planning Analytics and Extract Data"
   ]
  },
  {
   "cell_type": "code",
   "execution_count": 2,
   "metadata": {
    "collapsed": true
   },
   "outputs": [
    {
     "name": "stdout",
     "output_type": "stream",
     "text": [
      "Collecting TM1py\n",
      "\u001b[?25l  Downloading https://files.pythonhosted.org/packages/66/d9/268ed93d5bddbc59d41f4c35af89c34534addd6fc33b56d7eef0402998cb/TM1py-1.4.1.tar.gz (151kB)\n",
      "\u001b[K     |████████████████████████████████| 153kB 6.8MB/s eta 0:00:01\n",
      "\u001b[?25hRequirement already satisfied: requests in /opt/conda/envs/Python36/lib/python3.6/site-packages (from TM1py) (2.21.0)\n",
      "Requirement already satisfied: pandas in /opt/conda/envs/Python36/lib/python3.6/site-packages (from TM1py) (0.24.1)\n",
      "Requirement already satisfied: pytz in /opt/conda/envs/Python36/lib/python3.6/site-packages (from TM1py) (2018.9)\n",
      "Requirement already satisfied: certifi>=2017.4.17 in /opt/conda/envs/Python36/lib/python3.6/site-packages (from requests->TM1py) (2020.4.5.1)\n",
      "Requirement already satisfied: chardet<3.1.0,>=3.0.2 in /opt/conda/envs/Python36/lib/python3.6/site-packages (from requests->TM1py) (3.0.4)\n",
      "Requirement already satisfied: idna<2.9,>=2.5 in /opt/conda/envs/Python36/lib/python3.6/site-packages (from requests->TM1py) (2.8)\n",
      "Requirement already satisfied: urllib3<1.25,>=1.21.1 in /opt/conda/envs/Python36/lib/python3.6/site-packages (from requests->TM1py) (1.24.1)\n",
      "Requirement already satisfied: python-dateutil>=2.5.0 in /opt/conda/envs/Python36/lib/python3.6/site-packages (from pandas->TM1py) (2.7.5)\n",
      "Requirement already satisfied: numpy>=1.12.0 in /opt/conda/envs/Python36/lib/python3.6/site-packages (from pandas->TM1py) (1.15.4)\n",
      "Requirement already satisfied: six>=1.5 in /opt/conda/envs/Python36/lib/python3.6/site-packages (from python-dateutil>=2.5.0->pandas->TM1py) (1.12.0)\n",
      "Building wheels for collected packages: TM1py\n",
      "  Building wheel for TM1py (setup.py) ... \u001b[?25ldone\n",
      "\u001b[?25h  Stored in directory: /home/dsxuser/.cache/pip/wheels/7c/fa/08/d56bd0c618b62fa0e0bc1d076cd7478deb25c73a042802eef5\n",
      "Successfully built TM1py\n",
      "Installing collected packages: TM1py\n",
      "Successfully installed TM1py-1.4.1\n"
     ]
    }
   ],
   "source": [
    "!pip install TM1py"
   ]
  },
  {
   "cell_type": "code",
   "execution_count": 3,
   "metadata": {},
   "outputs": [],
   "source": [
    "from TM1py.Services import TM1Service\n",
    "from TM1py.Utils.Utils import build_pandas_dataframe_from_cellset"
   ]
  },
  {
   "cell_type": "code",
   "execution_count": 4,
   "metadata": {},
   "outputs": [],
   "source": [
    "# Import data from PA \n",
    "with TM1Service(address=tm1_credentials['address'], port=tm1_credentials['port'], user=tm1_credentials['user'], password=tm1_credentials['password'],ssl=tm1_credentials['ssl'] ) as tm1: \n",
    "    data = tm1.cubes.cells.execute_view(cube_name='OPS Sales', view_name='Training View', private = False)\n",
    "    df = build_pandas_dataframe_from_cellset(data, multiindex=False)"
   ]
  },
  {
   "cell_type": "code",
   "execution_count": 5,
   "metadata": {},
   "outputs": [
    {
     "data": {
      "text/html": [
       "<div>\n",
       "<style scoped>\n",
       "    .dataframe tbody tr th:only-of-type {\n",
       "        vertical-align: middle;\n",
       "    }\n",
       "\n",
       "    .dataframe tbody tr th {\n",
       "        vertical-align: top;\n",
       "    }\n",
       "\n",
       "    .dataframe thead th {\n",
       "        text-align: right;\n",
       "    }\n",
       "</style>\n",
       "<table border=\"1\" class=\"dataframe\">\n",
       "  <thead>\n",
       "    <tr style=\"text-align: right;\">\n",
       "      <th></th>\n",
       "      <th>Time Date</th>\n",
       "      <th>Version</th>\n",
       "      <th>Account</th>\n",
       "      <th>Product</th>\n",
       "      <th>Store</th>\n",
       "      <th>OPS Sales Source</th>\n",
       "      <th>OPS Sales Measure</th>\n",
       "      <th>Values</th>\n",
       "    </tr>\n",
       "  </thead>\n",
       "  <tbody>\n",
       "    <tr>\n",
       "      <th>2190</th>\n",
       "      <td>01012018</td>\n",
       "      <td>Actual</td>\n",
       "      <td>4999</td>\n",
       "      <td>2477202</td>\n",
       "      <td>NSW_CW_ST0125</td>\n",
       "      <td>Base</td>\n",
       "      <td>Amount</td>\n",
       "      <td>1584.0</td>\n",
       "    </tr>\n",
       "    <tr>\n",
       "      <th>365</th>\n",
       "      <td>01012018</td>\n",
       "      <td>Actual</td>\n",
       "      <td>4999</td>\n",
       "      <td>2477202</td>\n",
       "      <td>QLD_CW_ST0005</td>\n",
       "      <td>Base</td>\n",
       "      <td>Amount</td>\n",
       "      <td>1936.0</td>\n",
       "    </tr>\n",
       "    <tr>\n",
       "      <th>4015</th>\n",
       "      <td>01012018</td>\n",
       "      <td>Actual</td>\n",
       "      <td>4999</td>\n",
       "      <td>2477202</td>\n",
       "      <td>VIC_CW_ST0411</td>\n",
       "      <td>Base</td>\n",
       "      <td>Amount</td>\n",
       "      <td>2080.0</td>\n",
       "    </tr>\n",
       "    <tr>\n",
       "      <th>1825</th>\n",
       "      <td>01012018</td>\n",
       "      <td>Actual</td>\n",
       "      <td>4999</td>\n",
       "      <td>2511675</td>\n",
       "      <td>NSW_CW_ST0125</td>\n",
       "      <td>Base</td>\n",
       "      <td>Amount</td>\n",
       "      <td>1861.2</td>\n",
       "    </tr>\n",
       "    <tr>\n",
       "      <th>0</th>\n",
       "      <td>01012018</td>\n",
       "      <td>Actual</td>\n",
       "      <td>4999</td>\n",
       "      <td>2511675</td>\n",
       "      <td>QLD_CW_ST0005</td>\n",
       "      <td>Base</td>\n",
       "      <td>Amount</td>\n",
       "      <td>2274.8</td>\n",
       "    </tr>\n",
       "  </tbody>\n",
       "</table>\n",
       "</div>"
      ],
      "text/plain": [
       "     Time Date Version Account  ... OPS Sales Source OPS Sales Measure  Values\n",
       "2190  01012018  Actual    4999  ...             Base            Amount  1584.0\n",
       "365   01012018  Actual    4999  ...             Base            Amount  1936.0\n",
       "4015  01012018  Actual    4999  ...             Base            Amount  2080.0\n",
       "1825  01012018  Actual    4999  ...             Base            Amount  1861.2\n",
       "0     01012018  Actual    4999  ...             Base            Amount  2274.8\n",
       "\n",
       "[5 rows x 8 columns]"
      ]
     },
     "execution_count": 5,
     "metadata": {},
     "output_type": "execute_result"
    }
   ],
   "source": [
    "df.head()"
   ]
  },
  {
   "cell_type": "markdown",
   "metadata": {},
   "source": [
    "# 3. Preprocess Data"
   ]
  },
  {
   "cell_type": "code",
   "execution_count": 6,
   "metadata": {},
   "outputs": [],
   "source": [
    "import pandas as pd"
   ]
  },
  {
   "cell_type": "code",
   "execution_count": 7,
   "metadata": {},
   "outputs": [],
   "source": [
    "# Date Preprocessing - reformat date string\n",
    "df['Time Date'] = df['Time Date'].apply(lambda x: x[4:]+x[2:4]+x[:2])\n",
    "\n",
    "# Convert to Datetime\n",
    "df['Time Date'] = pd.to_datetime(df['Time Date'])"
   ]
  },
  {
   "cell_type": "code",
   "execution_count": 8,
   "metadata": {},
   "outputs": [],
   "source": [
    "df['Day'] = df['Time Date'].apply(lambda x: x.day)\n",
    "df['Day of Week'] = df['Time Date'].apply(lambda x: x.dayofweek)\n",
    "df['Day of Year'] = df['Time Date'].apply(lambda x: x.dayofyear)\n",
    "df['Month'] = df['Time Date'].apply(lambda x: x.month)\n",
    "df['Quarter End'] = df['Time Date'].apply(lambda x: x.is_quarter_end)\n",
    "df['Month End'] = df['Time Date'].apply(lambda x: x.is_month_end)\n",
    "df['Year'] = df['Time Date'].apply(lambda x: x.year)"
   ]
  },
  {
   "cell_type": "code",
   "execution_count": 9,
   "metadata": {},
   "outputs": [
    {
     "data": {
      "text/html": [
       "<div>\n",
       "<style scoped>\n",
       "    .dataframe tbody tr th:only-of-type {\n",
       "        vertical-align: middle;\n",
       "    }\n",
       "\n",
       "    .dataframe tbody tr th {\n",
       "        vertical-align: top;\n",
       "    }\n",
       "\n",
       "    .dataframe thead th {\n",
       "        text-align: right;\n",
       "    }\n",
       "</style>\n",
       "<table border=\"1\" class=\"dataframe\">\n",
       "  <thead>\n",
       "    <tr style=\"text-align: right;\">\n",
       "      <th></th>\n",
       "      <th>Time Date</th>\n",
       "      <th>Version</th>\n",
       "      <th>Account</th>\n",
       "      <th>Product</th>\n",
       "      <th>Store</th>\n",
       "      <th>OPS Sales Source</th>\n",
       "      <th>OPS Sales Measure</th>\n",
       "      <th>Values</th>\n",
       "      <th>Day</th>\n",
       "      <th>Day of Week</th>\n",
       "      <th>Day of Year</th>\n",
       "      <th>Month</th>\n",
       "      <th>Quarter End</th>\n",
       "      <th>Month End</th>\n",
       "      <th>Year</th>\n",
       "    </tr>\n",
       "  </thead>\n",
       "  <tbody>\n",
       "    <tr>\n",
       "      <th>2190</th>\n",
       "      <td>2018-01-01</td>\n",
       "      <td>Actual</td>\n",
       "      <td>4999</td>\n",
       "      <td>2477202</td>\n",
       "      <td>NSW_CW_ST0125</td>\n",
       "      <td>Base</td>\n",
       "      <td>Amount</td>\n",
       "      <td>1584.0</td>\n",
       "      <td>1</td>\n",
       "      <td>0</td>\n",
       "      <td>1</td>\n",
       "      <td>1</td>\n",
       "      <td>False</td>\n",
       "      <td>False</td>\n",
       "      <td>2018</td>\n",
       "    </tr>\n",
       "    <tr>\n",
       "      <th>365</th>\n",
       "      <td>2018-01-01</td>\n",
       "      <td>Actual</td>\n",
       "      <td>4999</td>\n",
       "      <td>2477202</td>\n",
       "      <td>QLD_CW_ST0005</td>\n",
       "      <td>Base</td>\n",
       "      <td>Amount</td>\n",
       "      <td>1936.0</td>\n",
       "      <td>1</td>\n",
       "      <td>0</td>\n",
       "      <td>1</td>\n",
       "      <td>1</td>\n",
       "      <td>False</td>\n",
       "      <td>False</td>\n",
       "      <td>2018</td>\n",
       "    </tr>\n",
       "    <tr>\n",
       "      <th>4015</th>\n",
       "      <td>2018-01-01</td>\n",
       "      <td>Actual</td>\n",
       "      <td>4999</td>\n",
       "      <td>2477202</td>\n",
       "      <td>VIC_CW_ST0411</td>\n",
       "      <td>Base</td>\n",
       "      <td>Amount</td>\n",
       "      <td>2080.0</td>\n",
       "      <td>1</td>\n",
       "      <td>0</td>\n",
       "      <td>1</td>\n",
       "      <td>1</td>\n",
       "      <td>False</td>\n",
       "      <td>False</td>\n",
       "      <td>2018</td>\n",
       "    </tr>\n",
       "    <tr>\n",
       "      <th>1825</th>\n",
       "      <td>2018-01-01</td>\n",
       "      <td>Actual</td>\n",
       "      <td>4999</td>\n",
       "      <td>2511675</td>\n",
       "      <td>NSW_CW_ST0125</td>\n",
       "      <td>Base</td>\n",
       "      <td>Amount</td>\n",
       "      <td>1861.2</td>\n",
       "      <td>1</td>\n",
       "      <td>0</td>\n",
       "      <td>1</td>\n",
       "      <td>1</td>\n",
       "      <td>False</td>\n",
       "      <td>False</td>\n",
       "      <td>2018</td>\n",
       "    </tr>\n",
       "    <tr>\n",
       "      <th>0</th>\n",
       "      <td>2018-01-01</td>\n",
       "      <td>Actual</td>\n",
       "      <td>4999</td>\n",
       "      <td>2511675</td>\n",
       "      <td>QLD_CW_ST0005</td>\n",
       "      <td>Base</td>\n",
       "      <td>Amount</td>\n",
       "      <td>2274.8</td>\n",
       "      <td>1</td>\n",
       "      <td>0</td>\n",
       "      <td>1</td>\n",
       "      <td>1</td>\n",
       "      <td>False</td>\n",
       "      <td>False</td>\n",
       "      <td>2018</td>\n",
       "    </tr>\n",
       "  </tbody>\n",
       "</table>\n",
       "</div>"
      ],
      "text/plain": [
       "      Time Date Version Account  Product  ... Month Quarter End Month End  Year\n",
       "2190 2018-01-01  Actual    4999  2477202  ...     1       False     False  2018\n",
       "365  2018-01-01  Actual    4999  2477202  ...     1       False     False  2018\n",
       "4015 2018-01-01  Actual    4999  2477202  ...     1       False     False  2018\n",
       "1825 2018-01-01  Actual    4999  2511675  ...     1       False     False  2018\n",
       "0    2018-01-01  Actual    4999  2511675  ...     1       False     False  2018\n",
       "\n",
       "[5 rows x 15 columns]"
      ]
     },
     "execution_count": 9,
     "metadata": {},
     "output_type": "execute_result"
    }
   ],
   "source": [
    "df.head()"
   ]
  },
  {
   "cell_type": "code",
   "execution_count": 10,
   "metadata": {},
   "outputs": [],
   "source": [
    "# Update product column\n",
    "df['Product'] = 'PROD'+df['Product']"
   ]
  },
  {
   "cell_type": "code",
   "execution_count": 11,
   "metadata": {},
   "outputs": [],
   "source": [
    "df.drop(['Time Date', 'Version', 'Account', 'OPS Sales Source', 'OPS Sales Measure'], axis=1, inplace=True)"
   ]
  },
  {
   "cell_type": "code",
   "execution_count": 12,
   "metadata": {},
   "outputs": [
    {
     "data": {
      "text/html": [
       "<div>\n",
       "<style scoped>\n",
       "    .dataframe tbody tr th:only-of-type {\n",
       "        vertical-align: middle;\n",
       "    }\n",
       "\n",
       "    .dataframe tbody tr th {\n",
       "        vertical-align: top;\n",
       "    }\n",
       "\n",
       "    .dataframe thead th {\n",
       "        text-align: right;\n",
       "    }\n",
       "</style>\n",
       "<table border=\"1\" class=\"dataframe\">\n",
       "  <thead>\n",
       "    <tr style=\"text-align: right;\">\n",
       "      <th></th>\n",
       "      <th>Product</th>\n",
       "      <th>Store</th>\n",
       "      <th>Values</th>\n",
       "      <th>Day</th>\n",
       "      <th>Day of Week</th>\n",
       "      <th>Day of Year</th>\n",
       "      <th>Month</th>\n",
       "      <th>Quarter End</th>\n",
       "      <th>Month End</th>\n",
       "      <th>Year</th>\n",
       "    </tr>\n",
       "  </thead>\n",
       "  <tbody>\n",
       "    <tr>\n",
       "      <th>2190</th>\n",
       "      <td>PROD2477202</td>\n",
       "      <td>NSW_CW_ST0125</td>\n",
       "      <td>1584.0</td>\n",
       "      <td>1</td>\n",
       "      <td>0</td>\n",
       "      <td>1</td>\n",
       "      <td>1</td>\n",
       "      <td>False</td>\n",
       "      <td>False</td>\n",
       "      <td>2018</td>\n",
       "    </tr>\n",
       "    <tr>\n",
       "      <th>365</th>\n",
       "      <td>PROD2477202</td>\n",
       "      <td>QLD_CW_ST0005</td>\n",
       "      <td>1936.0</td>\n",
       "      <td>1</td>\n",
       "      <td>0</td>\n",
       "      <td>1</td>\n",
       "      <td>1</td>\n",
       "      <td>False</td>\n",
       "      <td>False</td>\n",
       "      <td>2018</td>\n",
       "    </tr>\n",
       "    <tr>\n",
       "      <th>4015</th>\n",
       "      <td>PROD2477202</td>\n",
       "      <td>VIC_CW_ST0411</td>\n",
       "      <td>2080.0</td>\n",
       "      <td>1</td>\n",
       "      <td>0</td>\n",
       "      <td>1</td>\n",
       "      <td>1</td>\n",
       "      <td>False</td>\n",
       "      <td>False</td>\n",
       "      <td>2018</td>\n",
       "    </tr>\n",
       "    <tr>\n",
       "      <th>1825</th>\n",
       "      <td>PROD2511675</td>\n",
       "      <td>NSW_CW_ST0125</td>\n",
       "      <td>1861.2</td>\n",
       "      <td>1</td>\n",
       "      <td>0</td>\n",
       "      <td>1</td>\n",
       "      <td>1</td>\n",
       "      <td>False</td>\n",
       "      <td>False</td>\n",
       "      <td>2018</td>\n",
       "    </tr>\n",
       "    <tr>\n",
       "      <th>0</th>\n",
       "      <td>PROD2511675</td>\n",
       "      <td>QLD_CW_ST0005</td>\n",
       "      <td>2274.8</td>\n",
       "      <td>1</td>\n",
       "      <td>0</td>\n",
       "      <td>1</td>\n",
       "      <td>1</td>\n",
       "      <td>False</td>\n",
       "      <td>False</td>\n",
       "      <td>2018</td>\n",
       "    </tr>\n",
       "  </tbody>\n",
       "</table>\n",
       "</div>"
      ],
      "text/plain": [
       "          Product          Store  Values  ...  Quarter End  Month End  Year\n",
       "2190  PROD2477202  NSW_CW_ST0125  1584.0  ...        False      False  2018\n",
       "365   PROD2477202  QLD_CW_ST0005  1936.0  ...        False      False  2018\n",
       "4015  PROD2477202  VIC_CW_ST0411  2080.0  ...        False      False  2018\n",
       "1825  PROD2511675  NSW_CW_ST0125  1861.2  ...        False      False  2018\n",
       "0     PROD2511675  QLD_CW_ST0005  2274.8  ...        False      False  2018\n",
       "\n",
       "[5 rows x 10 columns]"
      ]
     },
     "execution_count": 12,
     "metadata": {},
     "output_type": "execute_result"
    }
   ],
   "source": [
    "df.head()"
   ]
  },
  {
   "cell_type": "markdown",
   "metadata": {},
   "source": [
    "# 4. Export Data to CSV inside of Watson Studio Project"
   ]
  },
  {
   "cell_type": "code",
   "execution_count": null,
   "metadata": {
    "scrolled": true
   },
   "outputs": [],
   "source": [
    "project.save_data('trainingdata.csv', df.to_csv(index=False))"
   ]
  },
  {
   "cell_type": "code",
   "execution_count": null,
   "metadata": {},
   "outputs": [],
   "source": []
  }
 ],
 "metadata": {
  "kernelspec": {
   "display_name": "Python 3",
   "language": "python",
   "name": "python3"
  },
  "language_info": {
   "codemirror_mode": {
    "name": "ipython",
    "version": 3
   },
   "file_extension": ".py",
   "mimetype": "text/x-python",
   "name": "python",
   "nbconvert_exporter": "python",
   "pygments_lexer": "ipython3",
   "version": "3.7.4"
  }
 },
 "nbformat": 4,
 "nbformat_minor": 1
}
